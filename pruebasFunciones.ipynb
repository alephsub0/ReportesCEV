{
 "cells": [
  {
   "cell_type": "code",
   "execution_count": 7,
   "metadata": {},
   "outputs": [],
   "source": [
    "%load_ext autoreload\n",
    "%autoreload 2"
   ]
  },
  {
   "cell_type": "code",
   "execution_count": 9,
   "metadata": {},
   "outputs": [],
   "source": [
    "from funciones import procesarSeguimiento, leerArchivoRevision"
   ]
  },
  {
   "cell_type": "code",
   "execution_count": 11,
   "metadata": {},
   "outputs": [
    {
     "name": "stderr",
     "output_type": "stream",
     "text": [
      "C:\\Users\\aemerinot\\AppData\\Roaming\\Python\\Python310\\site-packages\\openpyxl\\worksheet\\_reader.py:312: UserWarning: Data Validation extension is not supported and will be removed\n",
      "  warn(msg)\n"
     ]
    },
    {
     "data": {
      "text/html": [
       "<div>\n",
       "<style scoped>\n",
       "    .dataframe tbody tr th:only-of-type {\n",
       "        vertical-align: middle;\n",
       "    }\n",
       "\n",
       "    .dataframe tbody tr th {\n",
       "        vertical-align: top;\n",
       "    }\n",
       "\n",
       "    .dataframe thead th {\n",
       "        text-align: right;\n",
       "    }\n",
       "</style>\n",
       "<table border=\"1\" class=\"dataframe\">\n",
       "  <thead>\n",
       "    <tr style=\"text-align: right;\">\n",
       "      <th></th>\n",
       "      <th>Dominio</th>\n",
       "      <th>Facultad</th>\n",
       "      <th>Carrera</th>\n",
       "      <th>NRC</th>\n",
       "      <th>Apellidos</th>\n",
       "      <th>Nombre</th>\n",
       "      <th>Fecha</th>\n",
       "      <th>Hora</th>\n",
       "      <th>Recursos</th>\n",
       "      <th>Evaluación</th>\n",
       "      <th>Estructura</th>\n",
       "      <th>Calificaciones</th>\n",
       "      <th>Retroalimentación</th>\n",
       "      <th>Nombre Completo</th>\n",
       "    </tr>\n",
       "  </thead>\n",
       "  <tbody>\n",
       "    <tr>\n",
       "      <th>1</th>\n",
       "      <td>Seleccione una opción</td>\n",
       "      <td>NaN</td>\n",
       "      <td>repo y no puedo entrar</td>\n",
       "      <td>1073.0</td>\n",
       "      <td>Amaguaña Zumba</td>\n",
       "      <td>Richard</td>\n",
       "      <td>NaN</td>\n",
       "      <td>no Funciona</td>\n",
       "      <td>Seleccione una opción</td>\n",
       "      <td>Seleccione una opción</td>\n",
       "      <td>Seleccione una opción</td>\n",
       "      <td>Seleccione una opción</td>\n",
       "      <td>Seleccione una opción</td>\n",
       "      <td>Amaguaña Zumba Richard</td>\n",
       "    </tr>\n",
       "    <tr>\n",
       "      <th>2</th>\n",
       "      <td>Dominio 4: Manejo sostenible de recursos</td>\n",
       "      <td>Ciencias Exactas y Naturales</td>\n",
       "      <td>Ciencia de datos</td>\n",
       "      <td>3473.0</td>\n",
       "      <td>Buenaño Hermosa</td>\n",
       "      <td>Edwin</td>\n",
       "      <td>dede mayo</td>\n",
       "      <td>NaN</td>\n",
       "      <td>Seleccione una opción</td>\n",
       "      <td>Seleccione una opción</td>\n",
       "      <td>Seleccione una opción</td>\n",
       "      <td>Seleccione una opción</td>\n",
       "      <td>Seleccione una opción</td>\n",
       "      <td>Buenaño Hermosa Edwin</td>\n",
       "    </tr>\n",
       "    <tr>\n",
       "      <th>3</th>\n",
       "      <td>Dominio 4: Manejo sostenible de recursos</td>\n",
       "      <td>Ciencias Exactas y Naturales</td>\n",
       "      <td>Bioongeniería</td>\n",
       "      <td>1813.0</td>\n",
       "      <td>Merino Toapanta</td>\n",
       "      <td>Andrés</td>\n",
       "      <td>2024-04-11 00:00:00</td>\n",
       "      <td>17h45</td>\n",
       "      <td>Presenta</td>\n",
       "      <td>Presenta</td>\n",
       "      <td>Presenta</td>\n",
       "      <td>Presenta</td>\n",
       "      <td>Presenta</td>\n",
       "      <td>Merino Toapanta Andrés</td>\n",
       "    </tr>\n",
       "    <tr>\n",
       "      <th>4</th>\n",
       "      <td>Dominio 4: Manejo sostenible de recursos</td>\n",
       "      <td>Ciencias Exactas y Naturales</td>\n",
       "      <td>Ciencia de datos</td>\n",
       "      <td>6042.0</td>\n",
       "      <td>Merino Toapanta</td>\n",
       "      <td>Andrés</td>\n",
       "      <td>2024-04-11 00:00:00</td>\n",
       "      <td>17h48</td>\n",
       "      <td>Presenta</td>\n",
       "      <td>Presenta</td>\n",
       "      <td>Presenta</td>\n",
       "      <td>Presenta</td>\n",
       "      <td>Presenta</td>\n",
       "      <td>Merino Toapanta Andrés</td>\n",
       "    </tr>\n",
       "    <tr>\n",
       "      <th>5</th>\n",
       "      <td>No aplica para aulas no repotenciadas</td>\n",
       "      <td>Economía</td>\n",
       "      <td>Economía</td>\n",
       "      <td>1823.0</td>\n",
       "      <td>Buenaño Hermosa</td>\n",
       "      <td>Edwin</td>\n",
       "      <td>2024-04-25 00:00:00</td>\n",
       "      <td>22h35</td>\n",
       "      <td>Presenta</td>\n",
       "      <td>Presenta</td>\n",
       "      <td>Presenta</td>\n",
       "      <td>Presenta</td>\n",
       "      <td>Presenta</td>\n",
       "      <td>Buenaño Hermosa Edwin</td>\n",
       "    </tr>\n",
       "  </tbody>\n",
       "</table>\n",
       "</div>"
      ],
      "text/plain": [
       "                                    Dominio                      Facultad  \\\n",
       "1                     Seleccione una opción                           NaN   \n",
       "2  Dominio 4: Manejo sostenible de recursos  Ciencias Exactas y Naturales   \n",
       "3  Dominio 4: Manejo sostenible de recursos  Ciencias Exactas y Naturales   \n",
       "4  Dominio 4: Manejo sostenible de recursos  Ciencias Exactas y Naturales   \n",
       "5     No aplica para aulas no repotenciadas                      Economía   \n",
       "\n",
       "                  Carrera     NRC        Apellidos   Nombre  \\\n",
       "1  repo y no puedo entrar  1073.0   Amaguaña Zumba  Richard   \n",
       "2        Ciencia de datos  3473.0  Buenaño Hermosa    Edwin   \n",
       "3           Bioongeniería  1813.0  Merino Toapanta   Andrés   \n",
       "4        Ciencia de datos  6042.0  Merino Toapanta   Andrés   \n",
       "5                Economía  1823.0  Buenaño Hermosa    Edwin   \n",
       "\n",
       "                 Fecha         Hora               Recursos  \\\n",
       "1                  NaN  no Funciona  Seleccione una opción   \n",
       "2            dede mayo          NaN  Seleccione una opción   \n",
       "3  2024-04-11 00:00:00        17h45               Presenta   \n",
       "4  2024-04-11 00:00:00        17h48               Presenta   \n",
       "5  2024-04-25 00:00:00        22h35               Presenta   \n",
       "\n",
       "              Evaluación             Estructura         Calificaciones  \\\n",
       "1  Seleccione una opción  Seleccione una opción  Seleccione una opción   \n",
       "2  Seleccione una opción  Seleccione una opción  Seleccione una opción   \n",
       "3               Presenta               Presenta               Presenta   \n",
       "4               Presenta               Presenta               Presenta   \n",
       "5               Presenta               Presenta               Presenta   \n",
       "\n",
       "       Retroalimentación         Nombre Completo  \n",
       "1  Seleccione una opción  Amaguaña Zumba Richard  \n",
       "2  Seleccione una opción   Buenaño Hermosa Edwin  \n",
       "3               Presenta  Merino Toapanta Andrés  \n",
       "4               Presenta  Merino Toapanta Andrés  \n",
       "5               Presenta   Buenaño Hermosa Edwin  "
      ]
     },
     "execution_count": 11,
     "metadata": {},
     "output_type": "execute_result"
    }
   ],
   "source": [
    "# nombre archivo\n",
    "archivo = \"Formato de reporte.xlsx\"\n",
    "# nombre coordinador\n",
    "nombreCoordinador = \"Andrés Merino\"\n",
    "\n",
    "# leer archivo\n",
    "df_revision = leerArchivoRevision(archivo)\n",
    "\n",
    "df_revision.tail()"
   ]
  },
  {
   "cell_type": "code",
   "execution_count": 13,
   "metadata": {},
   "outputs": [
    {
     "name": "stderr",
     "output_type": "stream",
     "text": [
      "C:\\Users\\aemerinot\\AppData\\Roaming\\Python\\Python310\\site-packages\\openpyxl\\worksheet\\_reader.py:312: UserWarning: Data Validation extension is not supported and will be removed\n",
      "  warn(msg)\n"
     ]
    }
   ],
   "source": [
    "# procesar seguimiento\n",
    "df_seguimiento = procesarSeguimiento(archivo, nombreCoordinador)"
   ]
  }
 ],
 "metadata": {
  "kernelspec": {
   "display_name": "Python 3.9.7 64-bit",
   "language": "python",
   "name": "python3"
  },
  "language_info": {
   "codemirror_mode": {
    "name": "ipython",
    "version": 3
   },
   "file_extension": ".py",
   "mimetype": "text/x-python",
   "name": "python",
   "nbconvert_exporter": "python",
   "pygments_lexer": "ipython3",
   "version": "3.10.2"
  },
  "orig_nbformat": 4,
  "vscode": {
   "interpreter": {
    "hash": "574f0ececfaca64af42fced74c20f22696803a55dee29435791452985008ef63"
   }
  }
 },
 "nbformat": 4,
 "nbformat_minor": 2
}
