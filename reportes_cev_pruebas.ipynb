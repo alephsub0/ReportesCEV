{
 "cells": [
  {
   "cell_type": "markdown",
   "metadata": {},
   "source": [
    "## Instalación de paquetes"
   ]
  },
  {
   "cell_type": "code",
   "execution_count": 19,
   "metadata": {},
   "outputs": [],
   "source": [
    "# !pip install pandas\n",
    "# !python -m pip install openpyxl"
   ]
  },
  {
   "cell_type": "markdown",
   "metadata": {},
   "source": [
    "## Carga de paquetes"
   ]
  },
  {
   "cell_type": "code",
   "execution_count": 20,
   "metadata": {},
   "outputs": [
    {
     "name": "stdout",
     "output_type": "stream",
     "text": [
      "The autoreload extension is already loaded. To reload it, use:\n",
      "  %reload_ext autoreload\n"
     ]
    }
   ],
   "source": [
    "%load_ext autoreload\n",
    "%autoreload 2"
   ]
  },
  {
   "cell_type": "code",
   "execution_count": 21,
   "metadata": {},
   "outputs": [],
   "source": [
    "from reportes_cev import procesar_seguimiento, leer_archivo_revision"
   ]
  },
  {
   "cell_type": "markdown",
   "metadata": {},
   "source": [
    "## Pruebas"
   ]
  },
  {
   "cell_type": "code",
   "execution_count": 22,
   "metadata": {},
   "outputs": [
    {
     "name": "stderr",
     "output_type": "stream",
     "text": [
      "c:\\Users\\aemerinot\\AppData\\Local\\Programs\\Python\\Python312\\Lib\\site-packages\\openpyxl\\worksheet\\_reader.py:329: UserWarning: Data Validation extension is not supported and will be removed\n",
      "  warn(msg)\n"
     ]
    },
    {
     "data": {
      "text/html": [
       "<div>\n",
       "<style scoped>\n",
       "    .dataframe tbody tr th:only-of-type {\n",
       "        vertical-align: middle;\n",
       "    }\n",
       "\n",
       "    .dataframe tbody tr th {\n",
       "        vertical-align: top;\n",
       "    }\n",
       "\n",
       "    .dataframe thead th {\n",
       "        text-align: right;\n",
       "    }\n",
       "</style>\n",
       "<table border=\"1\" class=\"dataframe\">\n",
       "  <thead>\n",
       "    <tr style=\"text-align: right;\">\n",
       "      <th></th>\n",
       "      <th>Dominio</th>\n",
       "      <th>Facultad</th>\n",
       "      <th>Carrera</th>\n",
       "      <th>NRC</th>\n",
       "      <th>Apellidos</th>\n",
       "      <th>Nombre</th>\n",
       "      <th>Fecha</th>\n",
       "      <th>Hora</th>\n",
       "      <th>Recursos</th>\n",
       "      <th>Evaluación</th>\n",
       "      <th>Estructura</th>\n",
       "      <th>Calificaciones</th>\n",
       "      <th>Retroalimentación</th>\n",
       "      <th>Nombre Completo</th>\n",
       "    </tr>\n",
       "  </thead>\n",
       "  <tbody>\n",
       "    <tr>\n",
       "      <th>1</th>\n",
       "      <td>Seleccione una opción</td>\n",
       "      <td>NaN</td>\n",
       "      <td>repo y no puedo entrar</td>\n",
       "      <td>1073.0</td>\n",
       "      <td>Amaguaña Zumba</td>\n",
       "      <td>Richard</td>\n",
       "      <td>NaN</td>\n",
       "      <td>no Funciona</td>\n",
       "      <td>Seleccione una opción</td>\n",
       "      <td>Seleccione una opción</td>\n",
       "      <td>Seleccione una opción</td>\n",
       "      <td>Seleccione una opción</td>\n",
       "      <td>Seleccione una opción</td>\n",
       "      <td>Amaguaña Zumba Richard</td>\n",
       "    </tr>\n",
       "    <tr>\n",
       "      <th>2</th>\n",
       "      <td>Dominio 4: Manejo sostenible de recursos</td>\n",
       "      <td>Ciencias Exactas y Naturales</td>\n",
       "      <td>Ciencia de datos</td>\n",
       "      <td>3473.0</td>\n",
       "      <td>Buenaño Hermosa</td>\n",
       "      <td>Edwin</td>\n",
       "      <td>dede mayo</td>\n",
       "      <td>NaN</td>\n",
       "      <td>Seleccione una opción</td>\n",
       "      <td>Seleccione una opción</td>\n",
       "      <td>Seleccione una opción</td>\n",
       "      <td>Seleccione una opción</td>\n",
       "      <td>Seleccione una opción</td>\n",
       "      <td>Buenaño Hermosa Edwin</td>\n",
       "    </tr>\n",
       "    <tr>\n",
       "      <th>3</th>\n",
       "      <td>Dominio 4: Manejo sostenible de recursos</td>\n",
       "      <td>Ciencias Exactas y Naturales</td>\n",
       "      <td>Bioongeniería</td>\n",
       "      <td>1813.0</td>\n",
       "      <td>Merino Toapanta</td>\n",
       "      <td>Andrés</td>\n",
       "      <td>2024-04-11 00:00:00</td>\n",
       "      <td>17h45</td>\n",
       "      <td>Presenta</td>\n",
       "      <td>Presenta</td>\n",
       "      <td>Presenta</td>\n",
       "      <td>Presenta</td>\n",
       "      <td>Presenta</td>\n",
       "      <td>Merino Toapanta Andrés</td>\n",
       "    </tr>\n",
       "    <tr>\n",
       "      <th>4</th>\n",
       "      <td>Dominio 4: Manejo sostenible de recursos</td>\n",
       "      <td>Ciencias Exactas y Naturales</td>\n",
       "      <td>Ciencia de datos</td>\n",
       "      <td>6042.0</td>\n",
       "      <td>Merino Toapanta</td>\n",
       "      <td>Andrés</td>\n",
       "      <td>2024-04-11 00:00:00</td>\n",
       "      <td>17h48</td>\n",
       "      <td>Presenta</td>\n",
       "      <td>Presenta</td>\n",
       "      <td>Presenta</td>\n",
       "      <td>Presenta</td>\n",
       "      <td>Presenta</td>\n",
       "      <td>Merino Toapanta Andrés</td>\n",
       "    </tr>\n",
       "    <tr>\n",
       "      <th>5</th>\n",
       "      <td>No aplica para aulas no repotenciadas</td>\n",
       "      <td>Economía</td>\n",
       "      <td>Economía</td>\n",
       "      <td>1823.0</td>\n",
       "      <td>Buenaño Hermosa</td>\n",
       "      <td>Edwin</td>\n",
       "      <td>2024-04-25 00:00:00</td>\n",
       "      <td>22h35</td>\n",
       "      <td>Presenta</td>\n",
       "      <td>Presenta</td>\n",
       "      <td>Presenta</td>\n",
       "      <td>Presenta</td>\n",
       "      <td>Presenta</td>\n",
       "      <td>Buenaño Hermosa Edwin</td>\n",
       "    </tr>\n",
       "  </tbody>\n",
       "</table>\n",
       "</div>"
      ],
      "text/plain": [
       "                                    Dominio                      Facultad  \\\n",
       "1                     Seleccione una opción                           NaN   \n",
       "2  Dominio 4: Manejo sostenible de recursos  Ciencias Exactas y Naturales   \n",
       "3  Dominio 4: Manejo sostenible de recursos  Ciencias Exactas y Naturales   \n",
       "4  Dominio 4: Manejo sostenible de recursos  Ciencias Exactas y Naturales   \n",
       "5     No aplica para aulas no repotenciadas                      Economía   \n",
       "\n",
       "                  Carrera     NRC        Apellidos   Nombre  \\\n",
       "1  repo y no puedo entrar  1073.0   Amaguaña Zumba  Richard   \n",
       "2        Ciencia de datos  3473.0  Buenaño Hermosa    Edwin   \n",
       "3           Bioongeniería  1813.0  Merino Toapanta   Andrés   \n",
       "4        Ciencia de datos  6042.0  Merino Toapanta   Andrés   \n",
       "5                Economía  1823.0  Buenaño Hermosa    Edwin   \n",
       "\n",
       "                 Fecha         Hora               Recursos  \\\n",
       "1                  NaN  no Funciona  Seleccione una opción   \n",
       "2            dede mayo          NaN  Seleccione una opción   \n",
       "3  2024-04-11 00:00:00        17h45               Presenta   \n",
       "4  2024-04-11 00:00:00        17h48               Presenta   \n",
       "5  2024-04-25 00:00:00        22h35               Presenta   \n",
       "\n",
       "              Evaluación             Estructura         Calificaciones  \\\n",
       "1  Seleccione una opción  Seleccione una opción  Seleccione una opción   \n",
       "2  Seleccione una opción  Seleccione una opción  Seleccione una opción   \n",
       "3               Presenta               Presenta               Presenta   \n",
       "4               Presenta               Presenta               Presenta   \n",
       "5               Presenta               Presenta               Presenta   \n",
       "\n",
       "       Retroalimentación         Nombre Completo  \n",
       "1  Seleccione una opción  Amaguaña Zumba Richard  \n",
       "2  Seleccione una opción   Buenaño Hermosa Edwin  \n",
       "3               Presenta  Merino Toapanta Andrés  \n",
       "4               Presenta  Merino Toapanta Andrés  \n",
       "5               Presenta   Buenaño Hermosa Edwin  "
      ]
     },
     "execution_count": 22,
     "metadata": {},
     "output_type": "execute_result"
    }
   ],
   "source": [
    "# nombre archivo\n",
    "archivo = \"Formato de reporte.xlsx\"\n",
    "# nombre coordinador\n",
    "nombre_coordinador = \"Andrés Merino\"\n",
    "\n",
    "# leer archivo\n",
    "df_revision = leer_archivo_revision(archivo)\n",
    "\n",
    "df_revision.tail()"
   ]
  },
  {
   "cell_type": "code",
   "execution_count": 23,
   "metadata": {},
   "outputs": [
    {
     "name": "stderr",
     "output_type": "stream",
     "text": [
      "c:\\Users\\aemerinot\\AppData\\Local\\Programs\\Python\\Python312\\Lib\\site-packages\\openpyxl\\worksheet\\_reader.py:329: UserWarning: Data Validation extension is not supported and will be removed\n",
      "  warn(msg)\n"
     ]
    },
    {
     "name": "stdout",
     "output_type": "stream",
     "text": [
      "Error al compilar el archivo .\\temp\\Seguimiento-20240521144150/Amaguaña Zumba Richard\\1817-Seguimiento.\n",
      "[WinError 2] El sistema no puede encontrar el archivo especificado: '.\\\\temp\\\\Seguimiento-20240521144150/Amaguaña Zumba Richard\\\\1817-Seguimiento.aux'\n",
      "Error al compilar el archivo .\\temp\\Seguimiento-20240521144150/Amaguaña Zumba Richard\\1073-Seguimiento.\n",
      "[WinError 2] El sistema no puede encontrar el archivo especificado: '.\\\\temp\\\\Seguimiento-20240521144150/Amaguaña Zumba Richard\\\\1073-Seguimiento.aux'\n",
      "Error al compilar el archivo .\\temp\\Seguimiento-20240521144150/Buenaño Hermosa Edwin\\3473-Seguimiento.\n",
      "[WinError 2] El sistema no puede encontrar el archivo especificado: '.\\\\temp\\\\Seguimiento-20240521144150/Buenaño Hermosa Edwin\\\\3473-Seguimiento.aux'\n",
      "Error al compilar el archivo .\\temp\\Seguimiento-20240521144150/Merino Toapanta Andrés\\1813-Seguimiento.\n",
      "[WinError 2] El sistema no puede encontrar el archivo especificado: '.\\\\temp\\\\Seguimiento-20240521144150/Merino Toapanta Andrés\\\\1813-Seguimiento.aux'\n",
      "Error al compilar el archivo .\\temp\\Seguimiento-20240521144150/Merino Toapanta Andrés\\6042-Seguimiento.\n",
      "[WinError 2] El sistema no puede encontrar el archivo especificado: '.\\\\temp\\\\Seguimiento-20240521144150/Merino Toapanta Andrés\\\\6042-Seguimiento.aux'\n",
      "Error al compilar el archivo .\\temp\\Seguimiento-20240521144150/Buenaño Hermosa Edwin\\1823-Seguimiento.\n",
      "[WinError 2] El sistema no puede encontrar el archivo especificado: '.\\\\temp\\\\Seguimiento-20240521144150/Buenaño Hermosa Edwin\\\\1823-Seguimiento.aux'\n"
     ]
    }
   ],
   "source": [
    "# procesar seguimiento\n",
    "df_seguimiento = procesar_seguimiento(archivo, nombre_coordinador, directorio=\".\\\\temp\")"
   ]
  },
  {
   "cell_type": "code",
   "execution_count": 24,
   "metadata": {},
   "outputs": [
    {
     "data": {
      "text/plain": [
       "'.\\\\temp\\\\Seguimiento-20240521144150.zip'"
      ]
     },
     "execution_count": 24,
     "metadata": {},
     "output_type": "execute_result"
    }
   ],
   "source": [
    "df_seguimiento"
   ]
  },
  {
   "cell_type": "markdown",
   "metadata": {},
   "source": [
    "## Pruebas de errores"
   ]
  },
  {
   "cell_type": "code",
   "execution_count": 25,
   "metadata": {},
   "outputs": [
    {
     "ename": "ValueError",
     "evalue": "El archivo de revisión debe tener 13 columnas, pero tiene 0.",
     "output_type": "error",
     "traceback": [
      "\u001b[1;31m---------------------------------------------------------------------------\u001b[0m",
      "\u001b[1;31mValueError\u001b[0m                                Traceback (most recent call last)",
      "Cell \u001b[1;32mIn[25], line 7\u001b[0m\n\u001b[0;32m      4\u001b[0m nombre_coordinador \u001b[38;5;241m=\u001b[39m \u001b[38;5;124m\"\u001b[39m\u001b[38;5;124mAndrés Merino\u001b[39m\u001b[38;5;124m\"\u001b[39m\n\u001b[0;32m      6\u001b[0m \u001b[38;5;66;03m# leer archivo\u001b[39;00m\n\u001b[1;32m----> 7\u001b[0m df_revision \u001b[38;5;241m=\u001b[39m \u001b[43mleer_archivo_revision\u001b[49m\u001b[43m(\u001b[49m\u001b[43marchivo\u001b[49m\u001b[43m)\u001b[49m\n",
      "File \u001b[1;32md:\\aemerinot\\OneDrive\\GitHub\\Alephsub0\\ReportesCEV\\reportes_cev.py:89\u001b[0m, in \u001b[0;36mleer_archivo_revision\u001b[1;34m(archivo_revision)\u001b[0m\n\u001b[0;32m     85\u001b[0m     \u001b[38;5;28;01mraise\u001b[39;00m \u001b[38;5;167;01mFileNotFoundError\u001b[39;00m(\n\u001b[0;32m     86\u001b[0m         \u001b[38;5;124mf\u001b[39m\u001b[38;5;124m\"\u001b[39m\u001b[38;5;124mNo se encontró el archivo de revisión \u001b[39m\u001b[38;5;124m'\u001b[39m\u001b[38;5;132;01m{\u001b[39;00marchivo_revision\u001b[38;5;132;01m}\u001b[39;00m\u001b[38;5;124m'\u001b[39m\u001b[38;5;124m.\u001b[39m\u001b[38;5;124m\"\u001b[39m\n\u001b[0;32m     87\u001b[0m     )\n\u001b[0;32m     88\u001b[0m \u001b[38;5;28;01mif\u001b[39;00m df_revision\u001b[38;5;241m.\u001b[39mshape[\u001b[38;5;241m1\u001b[39m] \u001b[38;5;241m!=\u001b[39m \u001b[38;5;241m13\u001b[39m:\n\u001b[1;32m---> 89\u001b[0m     \u001b[38;5;28;01mraise\u001b[39;00m \u001b[38;5;167;01mValueError\u001b[39;00m(\n\u001b[0;32m     90\u001b[0m         \u001b[38;5;124mf\u001b[39m\u001b[38;5;124m\"\u001b[39m\u001b[38;5;124mEl archivo de revisión debe tener 13 columnas, pero tiene \u001b[39m\u001b[38;5;132;01m{\u001b[39;00mdf_revision\u001b[38;5;241m.\u001b[39mshape[\u001b[38;5;241m1\u001b[39m]\u001b[38;5;132;01m}\u001b[39;00m\u001b[38;5;124m.\u001b[39m\u001b[38;5;124m\"\u001b[39m\n\u001b[0;32m     91\u001b[0m     )\n\u001b[0;32m     93\u001b[0m \u001b[38;5;66;03m# Renombramos las columnas\u001b[39;00m\n\u001b[0;32m     94\u001b[0m df_revision\u001b[38;5;241m.\u001b[39mcolumns \u001b[38;5;241m=\u001b[39m [\n\u001b[0;32m     95\u001b[0m     \u001b[38;5;124m\"\u001b[39m\u001b[38;5;124mDominio\u001b[39m\u001b[38;5;124m\"\u001b[39m,\n\u001b[0;32m     96\u001b[0m     \u001b[38;5;124m\"\u001b[39m\u001b[38;5;124mFacultad\u001b[39m\u001b[38;5;124m\"\u001b[39m,\n\u001b[1;32m   (...)\u001b[0m\n\u001b[0;32m    107\u001b[0m     \u001b[38;5;124m\"\u001b[39m\u001b[38;5;124mRetroalimentación\u001b[39m\u001b[38;5;124m\"\u001b[39m,\n\u001b[0;32m    108\u001b[0m ]\n",
      "\u001b[1;31mValueError\u001b[0m: El archivo de revisión debe tener 13 columnas, pero tiene 0."
     ]
    }
   ],
   "source": [
    "# nombre archivo\n",
    "archivo = \"Formato de reporte_mal.xlsx\"\n",
    "# nombre coordinador\n",
    "nombre_coordinador = \"Andrés Merino\"\n",
    "\n",
    "# leer archivo\n",
    "df_revision = leer_archivo_revision(archivo)"
   ]
  },
  {
   "cell_type": "markdown",
   "metadata": {},
   "source": [
    "## Generar documentación"
   ]
  },
  {
   "cell_type": "code",
   "execution_count": 27,
   "metadata": {},
   "outputs": [],
   "source": [
    "# !python -m pip install pdoc3"
   ]
  },
  {
   "cell_type": "code",
   "execution_count": 35,
   "metadata": {},
   "outputs": [
    {
     "name": "stdout",
     "output_type": "stream",
     "text": [
      "docs\\reportes_cev.html\n"
     ]
    }
   ],
   "source": [
    "!python -m pdoc --html reportes_cev.py --output-dir docs --force"
   ]
  },
  {
   "cell_type": "code",
   "execution_count": null,
   "metadata": {},
   "outputs": [],
   "source": []
  }
 ],
 "metadata": {
  "kernelspec": {
   "display_name": "Python 3.9.7 64-bit",
   "language": "python",
   "name": "python3"
  },
  "language_info": {
   "codemirror_mode": {
    "name": "ipython",
    "version": 3
   },
   "file_extension": ".py",
   "mimetype": "text/x-python",
   "name": "python",
   "nbconvert_exporter": "python",
   "pygments_lexer": "ipython3",
   "version": "3.12.3"
  },
  "orig_nbformat": 4,
  "vscode": {
   "interpreter": {
    "hash": "574f0ececfaca64af42fced74c20f22696803a55dee29435791452985008ef63"
   }
  }
 },
 "nbformat": 4,
 "nbformat_minor": 2
}
