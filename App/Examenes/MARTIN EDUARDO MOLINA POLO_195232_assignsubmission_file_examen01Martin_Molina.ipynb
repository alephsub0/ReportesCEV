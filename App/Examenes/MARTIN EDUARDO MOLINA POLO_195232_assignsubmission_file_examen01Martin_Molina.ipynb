{
  "cells": [
    {
      "cell_type": "code",
      "execution_count": 31,
      "metadata": {
        "colab": {
          "base_uri": "https://localhost:8080/",
          "height": 444
        },
        "id": "SG3NGQgvWSL8",
        "outputId": "509aae3c-1098-4d6b-b63c-186806dd821a"
      },
      "outputs": [
        {
          "data": {
            "text/latex": [
              "$\\displaystyle \\left[\\begin{matrix}1.0 & -1.5 & -2.0 & -0.5 & 0 & 0\\\\0 & 1.0 & 0.842105263157895 & 0.157894736842105 & 0.105263157894737 & 0\\\\0 & 0.5 & 1.0 & -0.5 & 0 & 1\\end{matrix}\\right]$"
            ],
            "text/plain": [
              "Matrix([\n",
              "[1.0, -1.5,              -2.0,              -0.5,                 0, 0],\n",
              "[  0,  1.0, 0.842105263157895, 0.157894736842105, 0.105263157894737, 0],\n",
              "[  0,  0.5,               1.0,              -0.5,                 0, 1]])"
            ]
          },
          "metadata": {},
          "output_type": "display_data"
        },
        {
          "data": {
            "text/latex": [
              "$\\displaystyle \\left[\\begin{matrix}1.0 & -1.5 & -2.0 & -0.5 & 0 & 0\\\\0 & 1.0 & 0.842105263157895 & 0.157894736842105 & 0.105263157894737 & 0\\\\0 & 0 & 0.578947368421053 & -0.578947368421053 & -0.0526315789473684 & 1\\end{matrix}\\right]$"
            ],
            "text/plain": [
              "Matrix([\n",
              "[1.0, -1.5,              -2.0,               -0.5,                   0, 0],\n",
              "[  0,  1.0, 0.842105263157895,  0.157894736842105,   0.105263157894737, 0],\n",
              "[  0,    0, 0.578947368421053, -0.578947368421053, -0.0526315789473684, 1]])"
            ]
          },
          "metadata": {},
          "output_type": "display_data"
        },
        {
          "data": {
            "text/latex": [
              "$\\displaystyle \\left[\\begin{matrix}1.0 & -1.5 & -2.0 & -0.5 & 0 & 0\\\\0 & 1.0 & 0.842105263157895 & 0.157894736842105 & 0.105263157894737 & 0\\\\0 & 0 & 0.999999999999999 & -0.999999999999999 & -0.0909090909090908 & 1.72727272727273\\end{matrix}\\right]$"
            ],
            "text/plain": [
              "Matrix([\n",
              "[1.0, -1.5,              -2.0,               -0.5,                   0,                0],\n",
              "[  0,  1.0, 0.842105263157895,  0.157894736842105,   0.105263157894737,                0],\n",
              "[  0,    0, 0.999999999999999, -0.999999999999999, -0.0909090909090908, 1.72727272727273]])"
            ]
          },
          "metadata": {},
          "output_type": "display_data"
        },
        {
          "data": {
            "text/latex": [
              "$\\displaystyle \\left[\\begin{matrix}1.0 & -1.5 & -2.0 & -0.5 & 0 & 0\\\\0 & 1.0 & 1.11022302462516 \\cdot 10^{-16} & 1.0 & 0.181818181818182 & -1.45454545454545\\\\0 & 0 & 0.999999999999999 & -0.999999999999999 & -0.0909090909090908 & 1.72727272727273\\end{matrix}\\right]$"
            ],
            "text/plain": [
              "Matrix([\n",
              "[1.0, -1.5,                 -2.0,               -0.5,                   0,                 0],\n",
              "[  0,  1.0, 1.11022302462516e-16,                1.0,   0.181818181818182, -1.45454545454545],\n",
              "[  0,    0,    0.999999999999999, -0.999999999999999, -0.0909090909090908,  1.72727272727273]])"
            ]
          },
          "metadata": {},
          "output_type": "display_data"
        },
        {
          "data": {
            "text/latex": [
              "$\\displaystyle \\left[\\begin{matrix}1.0 & -1.5 & -1.11022302462516 \\cdot 10^{-15} & -2.5 & -0.181818181818182 & 3.45454545454545\\\\0 & 1.0 & 1.11022302462516 \\cdot 10^{-16} & 1.0 & 0.181818181818182 & -1.45454545454545\\\\0 & 0 & 0.999999999999999 & -0.999999999999999 & -0.0909090909090908 & 1.72727272727273\\end{matrix}\\right]$"
            ],
            "text/plain": [
              "Matrix([\n",
              "[1.0, -1.5, -1.11022302462516e-15,               -2.5,  -0.181818181818182,  3.45454545454545],\n",
              "[  0,  1.0,  1.11022302462516e-16,                1.0,   0.181818181818182, -1.45454545454545],\n",
              "[  0,    0,     0.999999999999999, -0.999999999999999, -0.0909090909090908,  1.72727272727273]])"
            ]
          },
          "metadata": {},
          "output_type": "display_data"
        },
        {
          "data": {
            "text/latex": [
              "$\\displaystyle \\left[\\begin{matrix}1.0 & 0 & -9.43689570931383 \\cdot 10^{-16} & -1.0 & 0.090909090909091 & 1.27272727272727\\\\0 & 1.0 & 1.11022302462516 \\cdot 10^{-16} & 1.0 & 0.181818181818182 & -1.45454545454545\\\\0 & 0 & 0.999999999999999 & -0.999999999999999 & -0.0909090909090908 & 1.72727272727273\\end{matrix}\\right]$"
            ],
            "text/plain": [
              "Matrix([\n",
              "[1.0,   0, -9.43689570931383e-16,               -1.0,   0.090909090909091,  1.27272727272727],\n",
              "[  0, 1.0,  1.11022302462516e-16,                1.0,   0.181818181818182, -1.45454545454545],\n",
              "[  0,   0,     0.999999999999999, -0.999999999999999, -0.0909090909090908,  1.72727272727273]])"
            ]
          },
          "metadata": {},
          "output_type": "display_data"
        },
        {
          "data": {
            "text/latex": [
              "$\\displaystyle \\left[\\begin{matrix}-1 & \\frac{1}{11} & \\frac{14}{11}\\\\1 & \\frac{2}{11} & - \\frac{16}{11}\\\\-1 & - \\frac{1}{11} & \\frac{19}{11}\\end{matrix}\\right]$"
            ],
            "text/plain": [
              "Matrix([\n",
              "[-1,  1/11,  14/11],\n",
              "[ 1,  2/11, -16/11],\n",
              "[-1, -1/11,  19/11]])"
            ]
          },
          "metadata": {},
          "output_type": "display_data"
        }
      ],
      "source": [
        "from sympy import *\n",
        "\n",
        "#1.-\n",
        "P= Matrix([[-2,3,4,1,0,0],[3,5,2,0,1,0],[-1,2,3,0,0,1]])\n",
        "A= Matrix([[-2,3,4],[3,5,2],[-1,2,3]])\n",
        "#multiplicar la primera fila por -1/2\n",
        "P= P.elementary_row_op(\"n->kn\", row=0, k=-1/2)\n",
        "\n",
        "\n",
        "#multiplicar la primera fila por -3 y sumarla a la segunda\n",
        "P= P.elementary_row_op(\"n->n+km\",row1=1, row2=0, k=-3)\n",
        "\n",
        "\n",
        "#multiplicar la primera fila por 1 y sumarla a la tercera\n",
        "P= P.elementary_row_op(\"n->n+km\",row1=2, row2=0, k=1)\n",
        "\n",
        "\n",
        "#multiplicar la segunda fila por 1/9.5\n",
        "P= P.elementary_row_op(\"n->kn\", row=1, k=1/9.5)\n",
        "\n",
        "\n",
        "#multiplicar la segunda fila por -1/2 y sumarla a la tercera\n",
        "P= P.elementary_row_op(\"n->n+km\",row1=2, row2=1, k=-1/2)\n",
        "display(P)\n",
        "\n",
        "#multiplicar la tercera fila por 1/0.578947368421053\n",
        "P= P.elementary_row_op(\"n->kn\", row=2, k=1/0.578947368421053)\n",
        "\n",
        "\n",
        "#multiplicar la tercera fila por -0.84 y sumarla a la 2da\n",
        "P= P.elementary_row_op(\"n->n+km\",row1=1, row2=2, k=-0.842105263157895)\n",
        "\n",
        "\n",
        "#multiplicar la tercera fila por 2 y sumarla a la primera\n",
        "P= P.elementary_row_op(\"n->n+km\",row1=0, row2=2, k=2)\n",
        "\n",
        "\n",
        "#multiplicar la segunda fila por 1.5 y sumarla a la primera\n",
        "P= P.elementary_row_op(\"n->n+km\",row1=0, row2=1, k=1.5)\n",
        "display(P)\n",
        "print(\"Aunque la matriz tenga un montón de decimales, la matriz inversa es la correcta\")\n",
        "\n",
        "display(A.inv())\n",
        "\n",
        "\n"
      ]
    }
  ],
  "metadata": {
    "colab": {
      "provenance": []
    },
    "kernelspec": {
      "display_name": "Python 3",
      "name": "python3"
    },
    "language_info": {
      "name": "python"
    }
  },
  "nbformat": 4,
  "nbformat_minor": 0
}
