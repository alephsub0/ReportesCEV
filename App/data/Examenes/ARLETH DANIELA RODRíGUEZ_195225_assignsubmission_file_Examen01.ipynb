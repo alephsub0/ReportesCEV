{
  "cells": [
    {
      "cell_type": "code",
      "execution_count": 1,
      "metadata": {
        "id": "OBnVhRTThrGa"
      },
      "outputs": [
        {
          "data": {
            "text/latex": [
              "$\\displaystyle \\left[\\begin{matrix}-2 & 3 & 4\\\\3 & 5 & 2\\\\-1 & 2 & 3\\end{matrix}\\right]$"
            ],
            "text/plain": [
              "Matrix([\n",
              "[-2, 3, 4],\n",
              "[ 3, 5, 2],\n",
              "[-1, 2, 3]])"
            ]
          },
          "metadata": {},
          "output_type": "display_data"
        },
        {
          "data": {
            "text/latex": [
              "$\\displaystyle \\left[\\begin{matrix}-2 & 3 & 4 & 1 & 0 & 0\\\\3 & 5 & 2 & 0 & 1 & 0\\\\-1 & 2 & 3 & 0 & 0 & 1\\end{matrix}\\right]$"
            ],
            "text/plain": [
              "Matrix([\n",
              "[-2, 3, 4, 1, 0, 0],\n",
              "[ 3, 5, 2, 0, 1, 0],\n",
              "[-1, 2, 3, 0, 0, 1]])"
            ]
          },
          "metadata": {},
          "output_type": "display_data"
        },
        {
          "data": {
            "text/latex": [
              "$\\displaystyle \\left[\\begin{matrix}1 & - \\frac{3}{2} & -2 & - \\frac{1}{2} & 0 & 0\\\\3 & 5 & 2 & 0 & 1 & 0\\\\-1 & 2 & 3 & 0 & 0 & 1\\end{matrix}\\right]$"
            ],
            "text/plain": [
              "Matrix([\n",
              "[ 1, -3/2, -2, -1/2, 0, 0],\n",
              "[ 3,    5,  2,    0, 1, 0],\n",
              "[-1,    2,  3,    0, 0, 1]])"
            ]
          },
          "metadata": {},
          "output_type": "display_data"
        },
        {
          "data": {
            "text/latex": [
              "$\\displaystyle \\left[\\begin{matrix}1 & - \\frac{3}{2} & -2 & - \\frac{1}{2} & 0 & 0\\\\0 & \\frac{19}{2} & 8 & \\frac{3}{2} & 1 & 0\\\\-1 & 2 & 3 & 0 & 0 & 1\\end{matrix}\\right]$"
            ],
            "text/plain": [
              "Matrix([\n",
              "[ 1, -3/2, -2, -1/2, 0, 0],\n",
              "[ 0, 19/2,  8,  3/2, 1, 0],\n",
              "[-1,    2,  3,    0, 0, 1]])"
            ]
          },
          "metadata": {},
          "output_type": "display_data"
        },
        {
          "data": {
            "text/latex": [
              "$\\displaystyle \\left[\\begin{matrix}1 & - \\frac{3}{2} & -2 & - \\frac{1}{2} & 0 & 0\\\\0 & \\frac{19}{2} & 8 & \\frac{3}{2} & 1 & 0\\\\0 & \\frac{1}{2} & 1 & - \\frac{1}{2} & 0 & 1\\end{matrix}\\right]$"
            ],
            "text/plain": [
              "Matrix([\n",
              "[1, -3/2, -2, -1/2, 0, 0],\n",
              "[0, 19/2,  8,  3/2, 1, 0],\n",
              "[0,  1/2,  1, -1/2, 0, 1]])"
            ]
          },
          "metadata": {},
          "output_type": "display_data"
        },
        {
          "data": {
            "text/latex": [
              "$\\displaystyle \\left[\\begin{matrix}1 & - \\frac{3}{2} & -2 & - \\frac{1}{2} & 0 & 0\\\\0 & 1 & \\frac{16}{19} & \\frac{3}{19} & \\frac{2}{19} & 0\\\\0 & \\frac{1}{2} & 1 & - \\frac{1}{2} & 0 & 1\\end{matrix}\\right]$"
            ],
            "text/plain": [
              "Matrix([\n",
              "[1, -3/2,    -2, -1/2,    0, 0],\n",
              "[0,    1, 16/19, 3/19, 2/19, 0],\n",
              "[0,  1/2,     1, -1/2,    0, 1]])"
            ]
          },
          "metadata": {},
          "output_type": "display_data"
        },
        {
          "data": {
            "text/latex": [
              "$\\displaystyle \\left[\\begin{matrix}1 & 0 & - \\frac{14}{19} & - \\frac{5}{19} & \\frac{3}{19} & 0\\\\0 & 1 & \\frac{16}{19} & \\frac{3}{19} & \\frac{2}{19} & 0\\\\0 & \\frac{1}{2} & 1 & - \\frac{1}{2} & 0 & 1\\end{matrix}\\right]$"
            ],
            "text/plain": [
              "Matrix([\n",
              "[1,   0, -14/19, -5/19, 3/19, 0],\n",
              "[0,   1,  16/19,  3/19, 2/19, 0],\n",
              "[0, 1/2,      1,  -1/2,    0, 1]])"
            ]
          },
          "metadata": {},
          "output_type": "display_data"
        },
        {
          "data": {
            "text/latex": [
              "$\\displaystyle \\left[\\begin{matrix}1 & 0 & - \\frac{14}{19} & - \\frac{5}{19} & \\frac{3}{19} & 0\\\\0 & 1 & \\frac{16}{19} & \\frac{3}{19} & \\frac{2}{19} & 0\\\\0 & 0 & \\frac{11}{19} & - \\frac{11}{19} & - \\frac{1}{19} & 1\\end{matrix}\\right]$"
            ],
            "text/plain": [
              "Matrix([\n",
              "[1, 0, -14/19,  -5/19,  3/19, 0],\n",
              "[0, 1,  16/19,   3/19,  2/19, 0],\n",
              "[0, 0,  11/19, -11/19, -1/19, 1]])"
            ]
          },
          "metadata": {},
          "output_type": "display_data"
        },
        {
          "data": {
            "text/latex": [
              "$\\displaystyle \\left[\\begin{matrix}1 & 0 & - \\frac{14}{19} & - \\frac{5}{19} & \\frac{3}{19} & 0\\\\0 & 1 & \\frac{16}{19} & \\frac{3}{19} & \\frac{2}{19} & 0\\\\0 & 0 & 1 & -1 & - \\frac{1}{11} & \\frac{19}{11}\\end{matrix}\\right]$"
            ],
            "text/plain": [
              "Matrix([\n",
              "[1, 0, -14/19, -5/19,  3/19,     0],\n",
              "[0, 1,  16/19,  3/19,  2/19,     0],\n",
              "[0, 0,      1,    -1, -1/11, 19/11]])"
            ]
          },
          "metadata": {},
          "output_type": "display_data"
        },
        {
          "data": {
            "text/latex": [
              "$\\displaystyle \\left[\\begin{matrix}1 & 0 & - \\frac{14}{19} & - \\frac{5}{19} & \\frac{3}{19} & 0\\\\0 & 1 & 0 & 1 & \\frac{2}{11} & - \\frac{16}{11}\\\\0 & 0 & 1 & -1 & - \\frac{1}{11} & \\frac{19}{11}\\end{matrix}\\right]$"
            ],
            "text/plain": [
              "Matrix([\n",
              "[1, 0, -14/19, -5/19,  3/19,      0],\n",
              "[0, 1,      0,     1,  2/11, -16/11],\n",
              "[0, 0,      1,    -1, -1/11,  19/11]])"
            ]
          },
          "metadata": {},
          "output_type": "display_data"
        },
        {
          "data": {
            "text/latex": [
              "$\\displaystyle \\left[\\begin{matrix}1 & 0 & 0 & -1 & \\frac{1}{11} & \\frac{14}{11}\\\\0 & 1 & 0 & 1 & \\frac{2}{11} & - \\frac{16}{11}\\\\0 & 0 & 1 & -1 & - \\frac{1}{11} & \\frac{19}{11}\\end{matrix}\\right]$"
            ],
            "text/plain": [
              "Matrix([\n",
              "[1, 0, 0, -1,  1/11,  14/11],\n",
              "[0, 1, 0,  1,  2/11, -16/11],\n",
              "[0, 0, 1, -1, -1/11,  19/11]])"
            ]
          },
          "metadata": {},
          "output_type": "display_data"
        },
        {
          "data": {
            "text/latex": [
              "$\\displaystyle \\left[\\begin{matrix}-1 & \\frac{1}{11} & \\frac{14}{11}\\\\1 & \\frac{2}{11} & - \\frac{16}{11}\\\\-1 & - \\frac{1}{11} & \\frac{19}{11}\\end{matrix}\\right]$"
            ],
            "text/plain": [
              "Matrix([\n",
              "[-1,  1/11,  14/11],\n",
              "[ 1,  2/11, -16/11],\n",
              "[-1, -1/11,  19/11]])"
            ]
          },
          "execution_count": 1,
          "metadata": {},
          "output_type": "execute_result"
        }
      ],
      "source": [
        "from sympy import*\n",
        "P=Matrix([[-2,3,4],[3,5,2],[-1,2,3]])\n",
        "display(P)\n",
        "#Matriz P ampliada con la I\n",
        "PI=Matrix([[-2,3,4,1,0,0],[3,5,2,0,1,0],[-1,2,3,0,0,1]])\n",
        "display(PI)\n",
        "PI=PI.elementary_row_op(\"n->kn\",row=0,k=Rational(-1,2))\n",
        "display(PI)\n",
        "PI=PI.elementary_row_op(\"n->n+km\",row1=0,row=1,k=-3)\n",
        "display(PI)\n",
        "PI=PI.elementary_row_op(\"n->n+km\",row1=0,row=2,k=1)\n",
        "display(PI)\n",
        "PI=PI.elementary_row_op(\"n->kn\",row=1,k=Rational(2,19))\n",
        "display(PI)\n",
        "PI=PI.elementary_row_op(\"n->n+km\",row1=1,row=0,k=Rational(3,2))\n",
        "display(PI)\n",
        "PI=PI.elementary_row_op(\"n->n+km\",row1=1,row=2,k=Rational(-1,2))\n",
        "display(PI)\n",
        "PI=PI.elementary_row_op(\"n->kn\",row=2,k=Rational(19,11))\n",
        "display(PI)\n",
        "PI=PI.elementary_row_op(\"n->n+km\",row1=2,row=1,k=Rational(-16,19))\n",
        "display(PI)\n",
        "PI=PI.elementary_row_op(\"n->n+km\",row1=2,row=0,k=Rational(14,19))\n",
        "display(PI)\n",
        "P.inv()"
      ]
    }
  ],
  "metadata": {
    "colab": {
      "provenance": []
    },
    "kernelspec": {
      "display_name": "Python 3",
      "name": "python3"
    },
    "language_info": {
      "codemirror_mode": {
        "name": "ipython",
        "version": 3
      },
      "file_extension": ".py",
      "mimetype": "text/x-python",
      "name": "python",
      "nbconvert_exporter": "python",
      "pygments_lexer": "ipython3",
      "version": "3.10.2"
    }
  },
  "nbformat": 4,
  "nbformat_minor": 0
}
