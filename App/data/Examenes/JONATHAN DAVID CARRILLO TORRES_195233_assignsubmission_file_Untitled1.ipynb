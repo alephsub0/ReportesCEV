{
  "cells": [
    {
      "cell_type": "code",
      "execution_count": 1,
      "metadata": {
        "id": "woussdhPmB2Y"
      },
      "outputs": [
        {
          "name": "stdout",
          "output_type": "stream",
          "text": [
            "Matriz P:\n"
          ]
        },
        {
          "data": {
            "text/latex": [
              "$\\displaystyle \\left[\\begin{matrix}-2 & 3 & 4\\\\3 & 5 & 2\\\\-1 & 2 & 3\\end{matrix}\\right]$"
            ],
            "text/plain": [
              "Matrix([\n",
              "[-2, 3, 4],\n",
              "[ 3, 5, 2],\n",
              "[-1, 2, 3]])"
            ]
          },
          "metadata": {},
          "output_type": "display_data"
        },
        {
          "data": {
            "text/latex": [
              "$\\displaystyle \\left[\\begin{matrix}1.0 & -1.5 & -2.0\\\\3 & 5 & 2\\\\-1 & 2 & 3\\end{matrix}\\right]$"
            ],
            "text/plain": [
              "Matrix([\n",
              "[1.0, -1.5, -2.0],\n",
              "[  3,    5,    2],\n",
              "[ -1,    2,    3]])"
            ]
          },
          "metadata": {},
          "output_type": "display_data"
        },
        {
          "data": {
            "text/latex": [
              "$\\displaystyle \\left[\\begin{matrix}1.0 & -1.5 & -2.0\\\\0 & 9.5 & 8.0\\\\-1 & 2 & 3\\end{matrix}\\right]$"
            ],
            "text/plain": [
              "Matrix([\n",
              "[1.0, -1.5, -2.0],\n",
              "[  0,  9.5,  8.0],\n",
              "[ -1,    2,    3]])"
            ]
          },
          "metadata": {},
          "output_type": "display_data"
        },
        {
          "data": {
            "text/latex": [
              "$\\displaystyle \\left[\\begin{matrix}1.0 & -1.5 & -2.0\\\\0 & 9.5 & 8.0\\\\0 & 0.5 & 1.0\\end{matrix}\\right]$"
            ],
            "text/plain": [
              "Matrix([\n",
              "[1.0, -1.5, -2.0],\n",
              "[  0,  9.5,  8.0],\n",
              "[  0,  0.5,  1.0]])"
            ]
          },
          "metadata": {},
          "output_type": "display_data"
        },
        {
          "data": {
            "text/latex": [
              "$\\displaystyle \\left[\\begin{matrix}1.0 & -1.5 & -2.0\\\\0 & 1.0 & 0.842105263157895\\\\0 & 0.5 & 1.0\\end{matrix}\\right]$"
            ],
            "text/plain": [
              "Matrix([\n",
              "[1.0, -1.5,              -2.0],\n",
              "[  0,  1.0, 0.842105263157895],\n",
              "[  0,  0.5,               1.0]])"
            ]
          },
          "metadata": {},
          "output_type": "display_data"
        },
        {
          "data": {
            "text/latex": [
              "$\\displaystyle \\left[\\begin{matrix}1.0 & -1.5 & -2.0\\\\0 & 1.0 & 0.842105263157895\\\\0 & 0 & 0.578947368421053\\end{matrix}\\right]$"
            ],
            "text/plain": [
              "Matrix([\n",
              "[1.0, -1.5,              -2.0],\n",
              "[  0,  1.0, 0.842105263157895],\n",
              "[  0,    0, 0.578947368421053]])"
            ]
          },
          "metadata": {},
          "output_type": "display_data"
        },
        {
          "data": {
            "text/latex": [
              "$\\displaystyle \\left[\\begin{matrix}1.0 & 0 & -0.736842105263158\\\\0 & 1.0 & 0.842105263157895\\\\0 & 0 & 0.578947368421053\\end{matrix}\\right]$"
            ],
            "text/plain": [
              "Matrix([\n",
              "[1.0,   0, -0.736842105263158],\n",
              "[  0, 1.0,  0.842105263157895],\n",
              "[  0,   0,  0.578947368421053]])"
            ]
          },
          "metadata": {},
          "output_type": "display_data"
        }
      ],
      "source": [
        "from sympy import *\n",
        "P = Matrix([[-2,3,4],[3,5,2],[-1,2,3]])\n",
        "print(\"Matriz P:\")\n",
        "display(P)\n",
        "temp = P\n",
        "#Primero convertimos A11 en 1 multiplicando (1/2)F1 -> F1\n",
        "temp=temp.elementary_row_op(\"n->kn\",k=-1/2,row=0)\n",
        "display(temp)\n",
        "#Segundo convertimos A21 en 0 sumando (-3)F1 + F2 -> F2\n",
        "temp=temp.elementary_row_op(\"n->n+km\",k=-3,row1=1,row2=0)\n",
        "display(temp)\n",
        "#Tercero convertimos A31 en 0 sumando (1)F1 + F3 -> F3\n",
        "temp=temp.elementary_row_op(\"n->n+km\",k=1,row1=2,row2=0)\n",
        "display(temp)\n",
        "#Cuarto convertimos A22 en 1 multiplicando (2/19)F2 -> F2\n",
        "temp=temp.elementary_row_op(\"n->kn\",k=2/19,row=1)\n",
        "display(temp)\n",
        "#Quinto convertimos A32 en 0 sumando (-1/2)F2 + F3 -> F3\n",
        "temp=temp.elementary_row_op(\"n->n+km\",k=-1/2,row1=2,row2=1)\n",
        "display(temp)\n",
        "#Sexto convertimos A12 en 0 sumando (3/2)F2 + F1 -> F1\n",
        "temp=temp.elementary_row_op(\"n->n+km\",k=3/2,row1=0,row2=1)\n",
        "display(temp)\n",
        "#De esta forma convertimos la matriz P a su escalonada con el método de Gauss Jordan"
      ]
    }
  ],
  "metadata": {
    "colab": {
      "provenance": []
    },
    "kernelspec": {
      "display_name": "Python 3",
      "name": "python3"
    },
    "language_info": {
      "codemirror_mode": {
        "name": "ipython",
        "version": 3
      },
      "file_extension": ".py",
      "mimetype": "text/x-python",
      "name": "python",
      "nbconvert_exporter": "python",
      "pygments_lexer": "ipython3",
      "version": "3.10.2"
    }
  },
  "nbformat": 4,
  "nbformat_minor": 0
}
