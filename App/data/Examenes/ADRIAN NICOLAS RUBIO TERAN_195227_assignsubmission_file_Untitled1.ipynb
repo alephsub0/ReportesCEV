{
  "nbformat": 4,
  "nbformat_minor": 0,
  "metadata": {
    "colab": {
      "provenance": []
    },
    "kernelspec": {
      "name": "python3",
      "display_name": "Python 3"
    },
    "language_info": {
      "name": "python"
    }
  },
  "cells": [
    {
      "cell_type": "code",
      "execution_count": 37,
      "metadata": {
        "colab": {
          "base_uri": "https://localhost:8080/",
          "height": 479
        },
        "id": "CHdE1H4nklwd",
        "outputId": "c85472a1-235b-456c-be70-dc1da02979a3"
      },
      "outputs": [
        {
          "output_type": "display_data",
          "data": {
            "text/plain": [
              "Matrix([\n",
              "[1.0, -1.5, -2.0, -0.5, 0, 0],\n",
              "[  3,    5,    2,    0, 1, 0],\n",
              "[ -1,    2,    3,    0, 0, 1]])"
            ],
            "text/latex": "$\\displaystyle \\left[\\begin{matrix}1.0 & -1.5 & -2.0 & -0.5 & 0 & 0\\\\3 & 5 & 2 & 0 & 1 & 0\\\\-1 & 2 & 3 & 0 & 0 & 1\\end{matrix}\\right]$"
          },
          "metadata": {}
        },
        {
          "output_type": "display_data",
          "data": {
            "text/plain": [
              "Matrix([\n",
              "[1.0, -1.5, -2.0, -0.5, 0, 0],\n",
              "[  0,  9.5,  8.0,  1.5, 1, 0],\n",
              "[ -1,    2,    3,    0, 0, 1]])"
            ],
            "text/latex": "$\\displaystyle \\left[\\begin{matrix}1.0 & -1.5 & -2.0 & -0.5 & 0 & 0\\\\0 & 9.5 & 8.0 & 1.5 & 1 & 0\\\\-1 & 2 & 3 & 0 & 0 & 1\\end{matrix}\\right]$"
          },
          "metadata": {}
        },
        {
          "output_type": "display_data",
          "data": {
            "text/plain": [
              "Matrix([\n",
              "[1.0, -1.5, -2.0, -0.5, 0, 0],\n",
              "[  0,  9.5,  8.0,  1.5, 1, 0],\n",
              "[  0,  0.5,  1.0, -0.5, 0, 1]])"
            ],
            "text/latex": "$\\displaystyle \\left[\\begin{matrix}1.0 & -1.5 & -2.0 & -0.5 & 0 & 0\\\\0 & 9.5 & 8.0 & 1.5 & 1 & 0\\\\0 & 0.5 & 1.0 & -0.5 & 0 & 1\\end{matrix}\\right]$"
          },
          "metadata": {}
        },
        {
          "output_type": "display_data",
          "data": {
            "text/plain": [
              "Matrix([\n",
              "[1.0, -1.5,              -2.0,              -0.5,                 0, 0],\n",
              "[  0,  1.0, 0.842105263157895, 0.157894736842105, 0.105263157894737, 0],\n",
              "[  0,  0.5,               1.0,              -0.5,                 0, 1]])"
            ],
            "text/latex": "$\\displaystyle \\left[\\begin{matrix}1.0 & -1.5 & -2.0 & -0.5 & 0 & 0\\\\0 & 1.0 & 0.842105263157895 & 0.157894736842105 & 0.105263157894737 & 0\\\\0 & 0.5 & 1.0 & -0.5 & 0 & 1\\end{matrix}\\right]$"
          },
          "metadata": {}
        },
        {
          "output_type": "stream",
          "name": "stdout",
          "text": [
            "multiplicamos f2 por 1.5 y lo sumamos en f1\n"
          ]
        },
        {
          "output_type": "display_data",
          "data": {
            "text/plain": [
              "Matrix([\n",
              "[1.0,   0, -0.736842105263158, -0.263157894736842, 0.157894736842105, 0],\n",
              "[  0, 1.0,  0.842105263157895,  0.157894736842105, 0.105263157894737, 0],\n",
              "[  0, 0.5,                1.0,               -0.5,                 0, 1]])"
            ],
            "text/latex": "$\\displaystyle \\left[\\begin{matrix}1.0 & 0 & -0.736842105263158 & -0.263157894736842 & 0.157894736842105 & 0\\\\0 & 1.0 & 0.842105263157895 & 0.157894736842105 & 0.105263157894737 & 0\\\\0 & 0.5 & 1.0 & -0.5 & 0 & 1\\end{matrix}\\right]$"
          },
          "metadata": {}
        },
        {
          "output_type": "stream",
          "name": "stdout",
          "text": [
            "multiplicamos f2 por -0.5 y lo sumamos en f3\n"
          ]
        },
        {
          "output_type": "display_data",
          "data": {
            "text/plain": [
              "Matrix([\n",
              "[1.0,   0, -0.736842105263158, -0.263157894736842,   0.157894736842105, 0],\n",
              "[  0, 1.0,  0.842105263157895,  0.157894736842105,   0.105263157894737, 0],\n",
              "[  0,   0,  0.578947368421053, -0.578947368421053, -0.0526315789473684, 1]])"
            ],
            "text/latex": "$\\displaystyle \\left[\\begin{matrix}1.0 & 0 & -0.736842105263158 & -0.263157894736842 & 0.157894736842105 & 0\\\\0 & 1.0 & 0.842105263157895 & 0.157894736842105 & 0.105263157894737 & 0\\\\0 & 0 & 0.578947368421053 & -0.578947368421053 & -0.0526315789473684 & 1\\end{matrix}\\right]$"
          },
          "metadata": {}
        },
        {
          "output_type": "display_data",
          "data": {
            "text/plain": [
              "Matrix([\n",
              "[1.0,   0, -0.736842105263158, -0.263157894736842,   0.157894736842105,                0],\n",
              "[  0, 1.0,  0.842105263157895,  0.157894736842105,   0.105263157894737,                0],\n",
              "[  0,   0,   1.01569713758079,  -1.01569713758079, -0.0923361034164358, 1.75438596491228]])"
            ],
            "text/latex": "$\\displaystyle \\left[\\begin{matrix}1.0 & 0 & -0.736842105263158 & -0.263157894736842 & 0.157894736842105 & 0\\\\0 & 1.0 & 0.842105263157895 & 0.157894736842105 & 0.105263157894737 & 0\\\\0 & 0 & 1.01569713758079 & -1.01569713758079 & -0.0923361034164358 & 1.75438596491228\\end{matrix}\\right]$"
          },
          "metadata": {}
        }
      ],
      "source": [
        "from sympy import *\n",
        "A=Matrix([[-2,3,4],[3,5,2],[-1,2,3]])\n",
        "B=eye(3)\n",
        "C=Matrix(BlockMatrix([A,B]))\n",
        "D=C.elementary_row_op(\"n->kn\", k=-1/2, row1=0)\n",
        "display(D)\n",
        "E=D.elementary_row_op(\"n->n+km\",k=-3,row1=1,row2=0)\n",
        "display(E)\n",
        "F=E.elementary_row_op(\"n->n+km\",k=1,row1=2,row2=0)\n",
        "display(F)\n",
        "G=F.elementary_row_op(\"n->kn\", k=1/9.5, row1=1)\n",
        "display(G)\n",
        "print(\"multiplicamos f2 por 1.5 y lo sumamos en f1\")\n",
        "H=G.elementary_row_op(\"n->n+km\",k=1.5,row1=0,row2=1)\n",
        "display(H)\n",
        "print(\"multiplicamos f2 por -0.5 y lo sumamos en f3\")\n",
        "I=H.elementary_row_op(\"n->n+km\",k=-0.5,row1=2,row2=1)\n",
        "display(I)\n",
        "\n",
        "J=I.elementary_row_op(\"n->kn\", k=1/0.57, row1=2)\n",
        "display(J)"
      ]
    }
  ]
}