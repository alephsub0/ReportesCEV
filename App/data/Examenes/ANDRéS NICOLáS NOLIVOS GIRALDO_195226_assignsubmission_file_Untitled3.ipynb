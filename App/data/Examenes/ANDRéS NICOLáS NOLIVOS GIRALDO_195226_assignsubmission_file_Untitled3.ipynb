{
  "cells": [
    {
      "cell_type": "code",
      "execution_count": 2,
      "metadata": {
        "id": "7sYXstoKmfBk"
      },
      "outputs": [
        {
          "name": "stdout",
          "output_type": "stream",
          "text": [
            "La matriz A:\n",
            "\n"
          ]
        },
        {
          "data": {
            "text/latex": [
              "$\\displaystyle \\left[\\begin{matrix}-2 & 3 & 4\\\\3 & 5 & 2\\\\-1 & 2 & 3\\end{matrix}\\right]$"
            ],
            "text/plain": [
              "Matrix([\n",
              "[-2, 3, 4],\n",
              "[ 3, 5, 2],\n",
              "[-1, 2, 3]])"
            ]
          },
          "metadata": {},
          "output_type": "display_data"
        },
        {
          "name": "stdout",
          "output_type": "stream",
          "text": [
            "\n",
            "La matriz ampliada de A con su inversa es:\n"
          ]
        },
        {
          "data": {
            "text/latex": [
              "$\\displaystyle \\left[\\begin{matrix}-2 & 3 & 4 & 1 & 0 & 0\\\\3 & 5 & 2 & 0 & 1 & 0\\\\-1 & 2 & 3 & 0 & 0 & 1\\end{matrix}\\right]$"
            ],
            "text/plain": [
              "Matrix([\n",
              "[-2, 3, 4, 1, 0, 0],\n",
              "[ 3, 5, 2, 0, 1, 0],\n",
              "[-1, 2, 3, 0, 0, 1]])"
            ]
          },
          "metadata": {},
          "output_type": "display_data"
        },
        {
          "name": "stdout",
          "output_type": "stream",
          "text": [
            "\n",
            "Cambio la fila 1 por la 3\n",
            ":\n"
          ]
        },
        {
          "data": {
            "text/latex": [
              "$\\displaystyle \\left[\\begin{matrix}-1 & 2 & 3 & 0 & 0 & 1\\\\3 & 5 & 2 & 0 & 1 & 0\\\\-2 & 3 & 4 & 1 & 0 & 0\\end{matrix}\\right]$"
            ],
            "text/plain": [
              "Matrix([\n",
              "[-1, 2, 3, 0, 0, 1],\n",
              "[ 3, 5, 2, 0, 1, 0],\n",
              "[-2, 3, 4, 1, 0, 0]])"
            ]
          },
          "metadata": {},
          "output_type": "display_data"
        },
        {
          "name": "stdout",
          "output_type": "stream",
          "text": [
            "\n",
            "Multiplico la fila 1 por -1 para tener mi uno principal:\n",
            "\n"
          ]
        },
        {
          "data": {
            "text/latex": [
              "$\\displaystyle \\left[\\begin{matrix}1 & -2 & -3 & 0 & 0 & -1\\\\3 & 5 & 2 & 0 & 1 & 0\\\\-2 & 3 & 4 & 1 & 0 & 0\\end{matrix}\\right]$"
            ],
            "text/plain": [
              "Matrix([\n",
              "[ 1, -2, -3, 0, 0, -1],\n",
              "[ 3,  5,  2, 0, 1,  0],\n",
              "[-2,  3,  4, 1, 0,  0]])"
            ]
          },
          "metadata": {},
          "output_type": "display_data"
        },
        {
          "name": "stdout",
          "output_type": "stream",
          "text": [
            "\n",
            "Multiplico la fila 1 por -3 y la sumo a la fila 2 para obtener un cero:\n",
            "\n"
          ]
        },
        {
          "data": {
            "text/latex": [
              "$\\displaystyle \\left[\\begin{matrix}1 & -2 & -3 & 0 & 0 & -1\\\\0 & 11 & 11 & 0 & 1 & 3\\\\-2 & 3 & 4 & 1 & 0 & 0\\end{matrix}\\right]$"
            ],
            "text/plain": [
              "Matrix([\n",
              "[ 1, -2, -3, 0, 0, -1],\n",
              "[ 0, 11, 11, 0, 1,  3],\n",
              "[-2,  3,  4, 1, 0,  0]])"
            ]
          },
          "metadata": {},
          "output_type": "display_data"
        },
        {
          "name": "stdout",
          "output_type": "stream",
          "text": [
            "\n",
            "Multiplico la fila 1 por 2 y la sumo a la fila 3 para obtener un cero:\n",
            "\n"
          ]
        },
        {
          "data": {
            "text/latex": [
              "$\\displaystyle \\left[\\begin{matrix}1 & -2 & -3 & 0 & 0 & -1\\\\0 & 11 & 11 & 0 & 1 & 3\\\\0 & -1 & -2 & 1 & 0 & -2\\end{matrix}\\right]$"
            ],
            "text/plain": [
              "Matrix([\n",
              "[1, -2, -3, 0, 0, -1],\n",
              "[0, 11, 11, 0, 1,  3],\n",
              "[0, -1, -2, 1, 0, -2]])"
            ]
          },
          "metadata": {},
          "output_type": "display_data"
        },
        {
          "name": "stdout",
          "output_type": "stream",
          "text": [
            "\n",
            "Multiplico la fila 2 por 1/11 para tener mi uno principal en la 2da fila:\n",
            "\n"
          ]
        },
        {
          "data": {
            "text/latex": [
              "$\\displaystyle \\left[\\begin{matrix}1 & -2 & -3 & 0 & 0 & -1\\\\0 & 1 & 1 & 0 & \\frac{1}{11} & \\frac{3}{11}\\\\0 & -1 & -2 & 1 & 0 & -2\\end{matrix}\\right]$"
            ],
            "text/plain": [
              "Matrix([\n",
              "[1, -2, -3, 0,    0,   -1],\n",
              "[0,  1,  1, 0, 1/11, 3/11],\n",
              "[0, -1, -2, 1,    0,   -2]])"
            ]
          },
          "metadata": {},
          "output_type": "display_data"
        },
        {
          "name": "stdout",
          "output_type": "stream",
          "text": [
            "\n",
            "Multiplico la fila 2 por 2 y la sumo a la fila 1 para obtener un cero:\n",
            "\n"
          ]
        },
        {
          "data": {
            "text/latex": [
              "$\\displaystyle \\left[\\begin{matrix}1 & 0 & -1 & 0 & \\frac{2}{11} & - \\frac{5}{11}\\\\0 & 1 & 1 & 0 & \\frac{1}{11} & \\frac{3}{11}\\\\0 & -1 & -2 & 1 & 0 & -2\\end{matrix}\\right]$"
            ],
            "text/plain": [
              "Matrix([\n",
              "[1,  0, -1, 0, 2/11, -5/11],\n",
              "[0,  1,  1, 0, 1/11,  3/11],\n",
              "[0, -1, -2, 1,    0,    -2]])"
            ]
          },
          "metadata": {},
          "output_type": "display_data"
        },
        {
          "name": "stdout",
          "output_type": "stream",
          "text": [
            "\n",
            "Multiplico la fila 2 por 1 y la sumo a la fila 3 para obtener un cero:\n",
            "\n"
          ]
        },
        {
          "data": {
            "text/latex": [
              "$\\displaystyle \\left[\\begin{matrix}1 & 0 & -1 & 0 & \\frac{2}{11} & - \\frac{5}{11}\\\\0 & 1 & 1 & 0 & \\frac{1}{11} & \\frac{3}{11}\\\\0 & 0 & -1 & 1 & \\frac{1}{11} & - \\frac{19}{11}\\end{matrix}\\right]$"
            ],
            "text/plain": [
              "Matrix([\n",
              "[1, 0, -1, 0, 2/11,  -5/11],\n",
              "[0, 1,  1, 0, 1/11,   3/11],\n",
              "[0, 0, -1, 1, 1/11, -19/11]])"
            ]
          },
          "metadata": {},
          "output_type": "display_data"
        },
        {
          "name": "stdout",
          "output_type": "stream",
          "text": [
            "\n",
            "Multiplico la fila 3 por -1 para tener mi uno principal en la 3ra fila:\n",
            "\n"
          ]
        },
        {
          "data": {
            "text/latex": [
              "$\\displaystyle \\left[\\begin{matrix}1 & 0 & -1 & 0 & \\frac{2}{11} & - \\frac{5}{11}\\\\0 & 1 & 1 & 0 & \\frac{1}{11} & \\frac{3}{11}\\\\0 & 0 & 1 & -1 & - \\frac{1}{11} & \\frac{19}{11}\\end{matrix}\\right]$"
            ],
            "text/plain": [
              "Matrix([\n",
              "[1, 0, -1,  0,  2/11, -5/11],\n",
              "[0, 1,  1,  0,  1/11,  3/11],\n",
              "[0, 0,  1, -1, -1/11, 19/11]])"
            ]
          },
          "metadata": {},
          "output_type": "display_data"
        },
        {
          "name": "stdout",
          "output_type": "stream",
          "text": [
            "\n",
            "Multiplico la fila 3 por 1 y la sumo a la fila 1 para obtener un cero:\n",
            "\n"
          ]
        },
        {
          "data": {
            "text/latex": [
              "$\\displaystyle \\left[\\begin{matrix}1 & 0 & 0 & -1 & \\frac{1}{11} & \\frac{14}{11}\\\\0 & 1 & 1 & 0 & \\frac{1}{11} & \\frac{3}{11}\\\\0 & 0 & 1 & -1 & - \\frac{1}{11} & \\frac{19}{11}\\end{matrix}\\right]$"
            ],
            "text/plain": [
              "Matrix([\n",
              "[1, 0, 0, -1,  1/11, 14/11],\n",
              "[0, 1, 1,  0,  1/11,  3/11],\n",
              "[0, 0, 1, -1, -1/11, 19/11]])"
            ]
          },
          "metadata": {},
          "output_type": "display_data"
        },
        {
          "name": "stdout",
          "output_type": "stream",
          "text": [
            "\n",
            "Multiplico la fila 3 por -1 y la sumo a la fila 2 para obtener un cero:\n",
            "\n"
          ]
        },
        {
          "data": {
            "text/latex": [
              "$\\displaystyle \\left[\\begin{matrix}1 & 0 & 0 & -1 & \\frac{1}{11} & \\frac{14}{11}\\\\0 & 1 & 0 & 1 & \\frac{2}{11} & - \\frac{16}{11}\\\\0 & 0 & 1 & -1 & - \\frac{1}{11} & \\frac{19}{11}\\end{matrix}\\right]$"
            ],
            "text/plain": [
              "Matrix([\n",
              "[1, 0, 0, -1,  1/11,  14/11],\n",
              "[0, 1, 0,  1,  2/11, -16/11],\n",
              "[0, 0, 1, -1, -1/11,  19/11]])"
            ]
          },
          "metadata": {},
          "output_type": "display_data"
        },
        {
          "name": "stdout",
          "output_type": "stream",
          "text": [
            "\n",
            "La inversa de A es:\n",
            "\n"
          ]
        },
        {
          "data": {
            "text/latex": [
              "$\\displaystyle \\left[\\begin{matrix}-1 & \\frac{1}{11} & \\frac{14}{11}\\\\1 & \\frac{2}{11} & - \\frac{16}{11}\\\\-1 & - \\frac{1}{11} & \\frac{19}{11}\\end{matrix}\\right]$"
            ],
            "text/plain": [
              "Matrix([\n",
              "[-1,  1/11,  14/11],\n",
              "[ 1,  2/11, -16/11],\n",
              "[-1, -1/11,  19/11]])"
            ]
          },
          "metadata": {},
          "output_type": "display_data"
        }
      ],
      "source": [
        "from sympy import *\n",
        "#Ingreso la matriz\n",
        "A=Matrix([[-2,3,4],[3,5,2],[-1,2,3]])\n",
        "print(\"La matriz A:\\n\")\n",
        "display(A)\n",
        "#Genero una matriz identidad de A\n",
        "IA=Matrix([[1,0,0],[0,1,0],[0,0,1]])\n",
        "#Amplio la matriz con su identidad para poder llegar a su inversa\n",
        "C = Matrix(BlockMatrix([A,IA]))\n",
        "print(\"\\nLa matriz ampliada de A con su inversa es:\")\n",
        "display(C)\n",
        "#Comienzo a reducir por el metodo\n",
        "print(\"\\nCambio la fila 1 por la 3\\n:\")\n",
        "C=C.elementary_row_op(\"n<->m\", row1=0, row2=2)\n",
        "display(C)\n",
        "print(\"\\nMultiplico la fila 1 por -1 para tener mi uno principal:\\n\")\n",
        "C=C.elementary_row_op(\"n->kn\", k=-1, row1=0)\n",
        "display(C)\n",
        "print(\"\\nMultiplico la fila 1 por -3 y la sumo a la fila 2 para obtener un cero:\\n\")\n",
        "C=C.elementary_row_op(\"n->n+km\", k=-3, row1=1, row2=0)\n",
        "display(C)\n",
        "print(\"\\nMultiplico la fila 1 por 2 y la sumo a la fila 3 para obtener un cero:\\n\")\n",
        "C=C.elementary_row_op(\"n->n+km\", k=2, row1=2, row2=0)\n",
        "display(C)\n",
        "print(\"\\nMultiplico la fila 2 por 1/11 para tener mi uno principal en la 2da fila:\\n\")\n",
        "C=C.elementary_row_op(\"n->kn\", k=Rational(1,11), row1=1)\n",
        "display(C)\n",
        "print(\"\\nMultiplico la fila 2 por 2 y la sumo a la fila 1 para obtener un cero:\\n\")\n",
        "C=C.elementary_row_op(\"n->n+km\", k=2, row1=0, row2=1)\n",
        "display(C)\n",
        "print(\"\\nMultiplico la fila 2 por 1 y la sumo a la fila 3 para obtener un cero:\\n\")\n",
        "C=C.elementary_row_op(\"n->n+km\", k=1, row1=2, row2=1)\n",
        "display(C)\n",
        "print(\"\\nMultiplico la fila 3 por -1 para tener mi uno principal en la 3ra fila:\\n\")\n",
        "C=C.elementary_row_op(\"n->kn\", k=-1, row1=2)\n",
        "display(C)\n",
        "print(\"\\nMultiplico la fila 3 por 1 y la sumo a la fila 1 para obtener un cero:\\n\")\n",
        "C=C.elementary_row_op(\"n->n+km\", k=1, row1=0, row2=2)\n",
        "display(C)\n",
        "print(\"\\nMultiplico la fila 3 por -1 y la sumo a la fila 2 para obtener un cero:\\n\")\n",
        "C=C.elementary_row_op(\"n->n+km\", k=-1, row1=1, row2=2)\n",
        "display(C)\n",
        "#Tenemos la inversa en I/A**-1, comprobamos con el comando de inv\n",
        "print(\"\\nLa inversa de A es:\\n\")\n",
        "display(A.inv())"
      ]
    }
  ],
  "metadata": {
    "colab": {
      "provenance": []
    },
    "kernelspec": {
      "display_name": "Python 3",
      "name": "python3"
    },
    "language_info": {
      "codemirror_mode": {
        "name": "ipython",
        "version": 3
      },
      "file_extension": ".py",
      "mimetype": "text/x-python",
      "name": "python",
      "nbconvert_exporter": "python",
      "pygments_lexer": "ipython3",
      "version": "3.10.2"
    }
  },
  "nbformat": 4,
  "nbformat_minor": 0
}
