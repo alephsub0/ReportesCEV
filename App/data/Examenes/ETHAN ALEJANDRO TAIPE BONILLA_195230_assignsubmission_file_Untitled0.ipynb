{
  "cells": [
    {
      "cell_type": "code",
      "execution_count": 1,
      "metadata": {
        "id": "YoM1RmPkjHEU"
      },
      "outputs": [
        {
          "name": "stdout",
          "output_type": "stream",
          "text": [
            "Matriz P:\n"
          ]
        },
        {
          "data": {
            "text/latex": [
              "$\\displaystyle \\left[\\begin{matrix}-2 & 3 & 4\\\\3 & 5 & 2\\\\-1 & 2 & 3\\end{matrix}\\right]$"
            ],
            "text/plain": [
              "Matrix([\n",
              "[-2, 3, 4],\n",
              "[ 3, 5, 2],\n",
              "[-1, 2, 3]])"
            ]
          },
          "metadata": {},
          "output_type": "display_data"
        },
        {
          "name": "stdout",
          "output_type": "stream",
          "text": [
            "Multiplicamos por 1/2 la fila 1 para obtener el 1 principal\n"
          ]
        },
        {
          "data": {
            "text/latex": [
              "$\\displaystyle \\left[\\begin{matrix}1.0 & -1.5 & -2.0\\\\3 & 5 & 2\\\\-1 & 2 & 3\\end{matrix}\\right]$"
            ],
            "text/plain": [
              "Matrix([\n",
              "[1.0, -1.5, -2.0],\n",
              "[  3,    5,    2],\n",
              "[ -1,    2,    3]])"
            ]
          },
          "metadata": {},
          "output_type": "display_data"
        },
        {
          "name": "stdout",
          "output_type": "stream",
          "text": [
            "Multiplicamos por -3 la fila 1 para obtener el 0 debajo \n"
          ]
        },
        {
          "data": {
            "text/latex": [
              "$\\displaystyle \\left[\\begin{matrix}1.0 & -1.5 & -2.0\\\\0 & 9.5 & 8.0\\\\-1 & 2 & 3\\end{matrix}\\right]$"
            ],
            "text/plain": [
              "Matrix([\n",
              "[1.0, -1.5, -2.0],\n",
              "[  0,  9.5,  8.0],\n",
              "[ -1,    2,    3]])"
            ]
          },
          "metadata": {},
          "output_type": "display_data"
        },
        {
          "name": "stdout",
          "output_type": "stream",
          "text": [
            "Multiplicamos por 1 la fila 1 para obtener el 0 en la fila 3 \n"
          ]
        },
        {
          "data": {
            "text/latex": [
              "$\\displaystyle \\left[\\begin{matrix}1.0 & -1.5 & -2.0\\\\0 & 9.5 & 8.0\\\\0 & 0.5 & 1.0\\end{matrix}\\right]$"
            ],
            "text/plain": [
              "Matrix([\n",
              "[1.0, -1.5, -2.0],\n",
              "[  0,  9.5,  8.0],\n",
              "[  0,  0.5,  1.0]])"
            ]
          },
          "metadata": {},
          "output_type": "display_data"
        },
        {
          "name": "stdout",
          "output_type": "stream",
          "text": [
            "Multiplicamos por 2 la fila 2 \n"
          ]
        },
        {
          "data": {
            "text/latex": [
              "$\\displaystyle \\left[\\begin{matrix}1.0 & -1.5 & -2.0\\\\0 & 19.0 & 16.0\\\\0 & 0.5 & 1.0\\end{matrix}\\right]$"
            ],
            "text/plain": [
              "Matrix([\n",
              "[1.0, -1.5, -2.0],\n",
              "[  0, 19.0, 16.0],\n",
              "[  0,  0.5,  1.0]])"
            ]
          },
          "metadata": {},
          "output_type": "display_data"
        },
        {
          "name": "stdout",
          "output_type": "stream",
          "text": [
            "Multiplicamos por 1/19 la fila 2 para obtener el 1 principal\n"
          ]
        },
        {
          "data": {
            "text/latex": [
              "$\\displaystyle \\left[\\begin{matrix}1.0 & -1.5 & -2.0\\\\0 & 1.0 & 0.842105263157895\\\\0 & 0.5 & 1.0\\end{matrix}\\right]$"
            ],
            "text/plain": [
              "Matrix([\n",
              "[1.0, -1.5,              -2.0],\n",
              "[  0,  1.0, 0.842105263157895],\n",
              "[  0,  0.5,               1.0]])"
            ]
          },
          "metadata": {},
          "output_type": "display_data"
        },
        {
          "name": "stdout",
          "output_type": "stream",
          "text": [
            "Obtenemos los ceros restantes\n"
          ]
        },
        {
          "data": {
            "text/latex": [
              "$\\displaystyle \\left[\\begin{matrix}1.0 & 0 & 1.0\\\\0 & 1.0 & 0.842105263157895\\\\0 & 0.5 & 1.0\\end{matrix}\\right]$"
            ],
            "text/plain": [
              "Matrix([\n",
              "[1.0,   0,               1.0],\n",
              "[  0, 1.0, 0.842105263157895],\n",
              "[  0, 0.5,               1.0]])"
            ]
          },
          "metadata": {},
          "output_type": "display_data"
        },
        {
          "name": "stdout",
          "output_type": "stream",
          "text": [
            "Obtenemos los ceros restantes\n"
          ]
        },
        {
          "data": {
            "text/latex": [
              "$\\displaystyle \\left[\\begin{matrix}1.0 & 0 & 1.0\\\\0 & 1.0 & 0.842105263157895\\\\0 & 0 & 0.578947368421053\\end{matrix}\\right]$"
            ],
            "text/plain": [
              "Matrix([\n",
              "[1.0,   0,               1.0],\n",
              "[  0, 1.0, 0.842105263157895],\n",
              "[  0,   0, 0.578947368421053]])"
            ]
          },
          "metadata": {},
          "output_type": "display_data"
        },
        {
          "name": "stdout",
          "output_type": "stream",
          "text": [
            "Multiplicamos por 1/19 la fila 2 para obtener el 1 principal\n"
          ]
        },
        {
          "data": {
            "text/latex": [
              "$\\displaystyle \\left[\\begin{matrix}1.0 & 0 & 1.0\\\\0 & 1.0 & 0.842105263157895\\\\0 & 0 & 1.03573684210526\\end{matrix}\\right]$"
            ],
            "text/plain": [
              "Matrix([\n",
              "[1.0,   0,               1.0],\n",
              "[  0, 1.0, 0.842105263157895],\n",
              "[  0,   0,  1.03573684210526]])"
            ]
          },
          "metadata": {},
          "output_type": "display_data"
        }
      ],
      "source": [
        "from sympy import *\n",
        "print('Matriz P:')\n",
        "P = Matrix([[-2,3,4],[3,5,2],[-1,2,3]])\n",
        "display(P)\n",
        "temp= P\n",
        "print('Multiplicamos por 1/2 la fila 1 para obtener el 1 principal')\n",
        "temp= temp.elementary_row_op('n->kn', k=-1/2, row1=0)\n",
        "display(temp)\n",
        "print('Multiplicamos por -3 la fila 1 para obtener el 0 debajo ')\n",
        "temp= temp.elementary_row_op('n->n+km', k=-3, row1=1, row2=0)\n",
        "display(temp)\n",
        "print('Multiplicamos por 1 la fila 1 para obtener el 0 en la fila 3 ')\n",
        "temp= temp.elementary_row_op('n->n+km', k=1, row1=2, row2=0)\n",
        "display(temp)\n",
        "print('Multiplicamos por 2 la fila 2 ')\n",
        "temp= temp.elementary_row_op('n->kn', k=2, row1=1)\n",
        "display(temp)\n",
        "print('Multiplicamos por 1/19 la fila 2 para obtener el 1 principal')\n",
        "temp= temp.elementary_row_op('n->kn', k=1/19, row1=1)\n",
        "display(temp)\n",
        "print('Obtenemos los ceros restantes')\n",
        "temp= temp.elementary_row_op('n->n+km', k=3, row1=0, row2=2)\n",
        "display(temp)\n",
        "print('Obtenemos los ceros restantes')\n",
        "temp= temp.elementary_row_op('n->n+km', k=-1/2, row1=2, row2=1)\n",
        "display(temp)\n",
        "print('Multiplicamos por 1/19 la fila 2 para obtener el 1 principal')\n",
        "temp= temp.elementary_row_op('n->kn', k=1.789, row1=2)\n",
        "display(temp)"
      ]
    }
  ],
  "metadata": {
    "colab": {
      "provenance": []
    },
    "kernelspec": {
      "display_name": "Python 3",
      "name": "python3"
    },
    "language_info": {
      "codemirror_mode": {
        "name": "ipython",
        "version": 3
      },
      "file_extension": ".py",
      "mimetype": "text/x-python",
      "name": "python",
      "nbconvert_exporter": "python",
      "pygments_lexer": "ipython3",
      "version": "3.10.2"
    }
  },
  "nbformat": 4,
  "nbformat_minor": 0
}
